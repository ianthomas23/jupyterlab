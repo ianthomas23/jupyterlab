{
 "cells": [
  {
   "cell_type": "markdown",
   "id": "0b41f095-6a3e-4da8-951e-30bee9a35d4b",
   "metadata": {},
   "source": [
    "# Subshell demo notebook\n",
    "\n",
    "### This mybinder instance is built using subshell development branches of both `ipykernel` and `jupyterlab`."
   ]
  },
  {
   "cell_type": "code",
   "execution_count": null,
   "id": "8fbad606-c53e-45ee-abfd-f7c4b6af419f",
   "metadata": {},
   "outputs": [],
   "source": [
    "a = [1, 2, 3]"
   ]
  },
  {
   "cell_type": "code",
   "execution_count": null,
   "id": "3713bed7-8e2e-4892-b9a2-4d8d08a59ad8",
   "metadata": {},
   "outputs": [],
   "source": [
    "%subshell"
   ]
  },
  {
   "cell_type": "markdown",
   "id": "cbad279a-dc3e-42de-bed7-5821f3faa2f2",
   "metadata": {},
   "source": [
    "### Open a console for a new subshell by right-clicking on this notebook and selecting \"New Subshell Console for Notebook\".\n",
    "### In the subshell console, execute \"a\" to confirm it shares the same memory space, and \"%subshell\" to confirm it is running in a different thread in the same process. \n",
    "### Then run the following cell which takes 10 seconds to complete, and run some code in the subshell to confirm they run at the same time."
   ]
  },
  {
   "cell_type": "code",
   "execution_count": null,
   "id": "969b0b50-c3c2-4bc5-83ad-f6081bf98059",
   "metadata": {},
   "outputs": [],
   "source": [
    "import time\n",
    "for b in range(10):\n",
    "    print(b)\n",
    "    time.sleep(1)"
   ]
  }
 ],
 "metadata": {
  "kernelspec": {
   "display_name": "Python 3 (ipykernel)",
   "language": "python",
   "name": "python3"
  },
  "language_info": {
   "codemirror_mode": {
    "name": "ipython",
    "version": 3
   },
   "file_extension": ".py",
   "mimetype": "text/x-python",
   "name": "python",
   "nbconvert_exporter": "python",
   "pygments_lexer": "ipython3",
   "version": "3.12.3"
  }
 },
 "nbformat": 4,
 "nbformat_minor": 5
}
